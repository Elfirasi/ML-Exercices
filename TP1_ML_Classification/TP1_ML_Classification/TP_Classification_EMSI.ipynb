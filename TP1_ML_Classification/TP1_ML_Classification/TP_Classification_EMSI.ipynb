{
 "cells": [
  {
   "cell_type": "code",
   "execution_count": null,
   "id": "eeafffb7",
   "metadata": {},
   "outputs": [],
   "source": [
    "import pandas as pd\n",
    "import seaborn as sns "
   ]
  },
  {
   "cell_type": "markdown",
   "id": "095aaefa",
   "metadata": {},
   "source": [
    "### Lecture de données"
   ]
  },
  {
   "cell_type": "code",
   "execution_count": null,
   "id": "8e95c791",
   "metadata": {},
   "outputs": [],
   "source": [
    "df=pd.read_csv('breast-cancer-wisconsin.data.txt', header=None)"
   ]
  },
  {
   "cell_type": "code",
   "execution_count": null,
   "id": "e5c440dd",
   "metadata": {},
   "outputs": [],
   "source": [
    "df.head()"
   ]
  },
  {
   "cell_type": "markdown",
   "id": "eeb2f3d8",
   "metadata": {},
   "source": [
    "### Ajout des noms de colonnes"
   ]
  },
  {
   "cell_type": "code",
   "execution_count": null,
   "id": "d0b0d0c4",
   "metadata": {},
   "outputs": [],
   "source": [
    "col_names = ['Id', 'Clump_thickness', 'Uniformity_Cell_Size', 'Uniformity_Cell_Shape', 'Marginal_Adhesion', \n",
    "             'Single_Epithelial_Cell_Size', 'Bare_Nuclei', 'Bland_Chromatin', 'Normal_Nucleoli', 'Mitoses', 'Class']\n"
   ]
  },
  {
   "cell_type": "code",
   "execution_count": null,
   "id": "0c5590e0",
   "metadata": {},
   "outputs": [],
   "source": [
    "df.columns = col_names\n",
    "df.columns"
   ]
  },
  {
   "cell_type": "markdown",
   "id": "cdcd6394",
   "metadata": {},
   "source": [
    "### Description du dataset"
   ]
  },
  {
   "cell_type": "code",
   "execution_count": null,
   "id": "217661be",
   "metadata": {},
   "outputs": [],
   "source": [
    "df.describe()"
   ]
  },
  {
   "cell_type": "code",
   "execution_count": null,
   "id": "7d13bf20",
   "metadata": {},
   "outputs": [],
   "source": [
    "df.head()"
   ]
  },
  {
   "cell_type": "markdown",
   "id": "e48bfdf7",
   "metadata": {},
   "source": [
    "### Supprimer la colonne ID"
   ]
  },
  {
   "cell_type": "code",
   "execution_count": null,
   "id": "3d795c2f",
   "metadata": {},
   "outputs": [],
   "source": [
    "\n",
    "df.drop('Id', axis=1, inplace=True)\n"
   ]
  },
  {
   "cell_type": "code",
   "execution_count": null,
   "id": "3bdca3fa",
   "metadata": {},
   "outputs": [],
   "source": [
    "df.head()"
   ]
  },
  {
   "cell_type": "markdown",
   "id": "baf34c20",
   "metadata": {},
   "source": [
    "### Info sur dataset pour afficher le type de données"
   ]
  },
  {
   "cell_type": "code",
   "execution_count": null,
   "id": "c2306bb4",
   "metadata": {},
   "outputs": [],
   "source": [
    "df.info()"
   ]
  },
  {
   "cell_type": "markdown",
   "id": "f517a9d2",
   "metadata": {},
   "source": [
    "### Convertir Bare_Nuclei en numérique"
   ]
  },
  {
   "cell_type": "code",
   "execution_count": null,
   "id": "cb55da14",
   "metadata": {},
   "outputs": [],
   "source": [
    "#If ‘coerce’, then invalid parsing will be set as NaN.\n",
    "df['Bare_Nuclei'] = pd.to_numeric(df['Bare_Nuclei'],errors='coerce')"
   ]
  },
  {
   "cell_type": "code",
   "execution_count": null,
   "id": "f3e707e7",
   "metadata": {},
   "outputs": [],
   "source": [
    "df.dtypes"
   ]
  },
  {
   "cell_type": "markdown",
   "id": "f87c49c7",
   "metadata": {},
   "source": [
    "### Chercher les valeurs null"
   ]
  },
  {
   "cell_type": "code",
   "execution_count": null,
   "id": "5fd19aba",
   "metadata": {},
   "outputs": [],
   "source": [
    "df.isnull().sum()"
   ]
  },
  {
   "cell_type": "code",
   "execution_count": null,
   "id": "d9b8008a",
   "metadata": {},
   "outputs": [],
   "source": [
    "# distribution des valeurs\n",
    "\n",
    "df['Bare_Nuclei'].value_counts()"
   ]
  },
  {
   "cell_type": "markdown",
   "id": "07b0b107",
   "metadata": {},
   "source": [
    "### <h2 class='text-danger'>Diviser dataset en X (caractéristiques) et y (classes)</h2>"
   ]
  },
  {
   "cell_type": "code",
   "execution_count": null,
   "id": "bd840827",
   "metadata": {},
   "outputs": [],
   "source": [
    "X = df.drop(['Class'], axis=1)\n",
    "y = df['Class']"
   ]
  },
  {
   "cell_type": "code",
   "execution_count": null,
   "id": "487b5294",
   "metadata": {},
   "outputs": [],
   "source": [
    "X.head()"
   ]
  },
  {
   "cell_type": "markdown",
   "id": "044aa0ae",
   "metadata": {},
   "source": [
    "## Remplacement des val NaN par la médiane du colonne"
   ]
  },
  {
   "cell_type": "code",
   "execution_count": null,
   "id": "d2cfd51f",
   "metadata": {},
   "outputs": [],
   "source": [
    "for col in X:\n",
    "    col_mediane = X[col].median()\n",
    "    X[col].fillna(col_mediane,inplace=True)"
   ]
  },
  {
   "cell_type": "code",
   "execution_count": null,
   "id": "a762cb01",
   "metadata": {},
   "outputs": [],
   "source": [
    "X.isnull().sum()"
   ]
  },
  {
   "cell_type": "code",
   "execution_count": null,
   "id": "1b51b158",
   "metadata": {},
   "outputs": [],
   "source": []
  },
  {
   "cell_type": "code",
   "execution_count": null,
   "id": "440ca216",
   "metadata": {},
   "outputs": [],
   "source": []
  },
  {
   "cell_type": "markdown",
   "id": "b70ea4b5",
   "metadata": {},
   "source": [
    "## Découper dataset en 20% pour test et 80% pour traning"
   ]
  },
  {
   "cell_type": "code",
   "execution_count": null,
   "id": "3400f80d",
   "metadata": {},
   "outputs": [],
   "source": [
    "from sklearn.model_selection import train_test_split"
   ]
  },
  {
   "cell_type": "code",
   "execution_count": null,
   "id": "bdba2e32",
   "metadata": {},
   "outputs": [],
   "source": [
    "x_train,x_test,y_train,y_test = train_test_split(X,y,train_size=0.8 )"
   ]
  },
  {
   "cell_type": "code",
   "execution_count": null,
   "id": "d19b26ae",
   "metadata": {},
   "outputs": [],
   "source": [
    "x_train.head()"
   ]
  },
  {
   "cell_type": "markdown",
   "id": "add17181",
   "metadata": {},
   "source": [
    "# Normalisation"
   ]
  },
  {
   "cell_type": "code",
   "execution_count": null,
   "id": "92ad411f",
   "metadata": {},
   "outputs": [],
   "source": [
    "from sklearn.preprocessing import StandardScaler\n",
    "\n",
    "scaler = StandardScaler()\n",
    "\n",
    "x_train = scaler.fit_transform(x_train)\n",
    "\n",
    "x_test = scaler.transform(x_test)"
   ]
  },
  {
   "cell_type": "markdown",
   "id": "9ac1093d",
   "metadata": {},
   "source": [
    "## Training en utilisant Naive Bayes Gaussien"
   ]
  },
  {
   "cell_type": "code",
   "execution_count": null,
   "id": "60099590",
   "metadata": {},
   "outputs": [],
   "source": [
    "from sklearn.naive_bayes import GaussianNB"
   ]
  },
  {
   "cell_type": "code",
   "execution_count": null,
   "id": "1f065706",
   "metadata": {},
   "outputs": [],
   "source": [
    "nb = GaussianNB()"
   ]
  },
  {
   "cell_type": "code",
   "execution_count": null,
   "id": "8a3e8d85",
   "metadata": {},
   "outputs": [],
   "source": [
    "y_train.value_counts()"
   ]
  },
  {
   "cell_type": "code",
   "execution_count": null,
   "id": "2e1bbb9b",
   "metadata": {},
   "outputs": [],
   "source": [
    "nb.fit(x_train,y_train)"
   ]
  },
  {
   "cell_type": "code",
   "execution_count": null,
   "id": "00845aef",
   "metadata": {
    "scrolled": true
   },
   "outputs": [],
   "source": [
    "y_train.shape"
   ]
  },
  {
   "cell_type": "code",
   "execution_count": null,
   "id": "9b67c07a",
   "metadata": {},
   "outputs": [],
   "source": [
    "y_pred = nb.predict(x_test)"
   ]
  },
  {
   "cell_type": "markdown",
   "id": "c0f4a6ce",
   "metadata": {},
   "source": [
    "## Evaluation du modèle"
   ]
  },
  {
   "cell_type": "code",
   "execution_count": null,
   "id": "46b74262",
   "metadata": {},
   "outputs": [],
   "source": [
    "from sklearn.metrics import confusion_matrix, accuracy_score"
   ]
  },
  {
   "cell_type": "code",
   "execution_count": null,
   "id": "fedc2ade",
   "metadata": {},
   "outputs": [],
   "source": [
    "y_test.value_counts()"
   ]
  },
  {
   "cell_type": "code",
   "execution_count": null,
   "id": "154e4cad",
   "metadata": {},
   "outputs": [],
   "source": [
    "cfx=confusion_matrix(y_test,y_pred)\n",
    "cfx"
   ]
  },
  {
   "cell_type": "code",
   "execution_count": null,
   "id": "bcb0c085",
   "metadata": {},
   "outputs": [],
   "source": [
    "print('Model accuracy score: {0:0.4f}'. format(accuracy_score(y_test, y_pred)))"
   ]
  },
  {
   "cell_type": "markdown",
   "id": "a9c21fe2",
   "metadata": {},
   "source": [
    "## Visualisation de la matrice de confusion"
   ]
  },
  {
   "cell_type": "code",
   "execution_count": null,
   "id": "d5cc386f",
   "metadata": {},
   "outputs": [],
   "source": [
    "sns.heatmap(cfx, fmt='d',annot=True,cmap='Reds')"
   ]
  },
  {
   "cell_type": "code",
   "execution_count": null,
   "id": "d7d3bd6f",
   "metadata": {},
   "outputs": [],
   "source": [
    "sns.heatmap(cfx/cfx.sum(), fmt='.2%',annot=True,cmap='Greens' )"
   ]
  },
  {
   "cell_type": "markdown",
   "id": "02e77d13",
   "metadata": {},
   "source": [
    "# Regression Logistique"
   ]
  },
  {
   "cell_type": "code",
   "execution_count": null,
   "id": "6a2681a2",
   "metadata": {},
   "outputs": [],
   "source": [
    "from sklearn.linear_model import LogisticRegression"
   ]
  },
  {
   "cell_type": "code",
   "execution_count": null,
   "id": "a7392c52",
   "metadata": {},
   "outputs": [],
   "source": [
    "lr = LogisticRegression()\n",
    "lr.fit(x_train,y_train)"
   ]
  },
  {
   "cell_type": "code",
   "execution_count": null,
   "id": "7ec60c03",
   "metadata": {},
   "outputs": [],
   "source": [
    "y_pred_lr = lr.predict(x_test)"
   ]
  },
  {
   "cell_type": "code",
   "execution_count": null,
   "id": "e6457474",
   "metadata": {},
   "outputs": [],
   "source": [
    "cfx_lr=confusion_matrix(y_test,y_pred_lr)\n",
    "cfx_lr"
   ]
  },
  {
   "cell_type": "code",
   "execution_count": null,
   "id": "f13320f6",
   "metadata": {},
   "outputs": [],
   "source": [
    "sns.heatmap(cfx_lr, fmt='d',annot=True,cmap='Greens')"
   ]
  },
  {
   "cell_type": "code",
   "execution_count": null,
   "id": "33721417",
   "metadata": {},
   "outputs": [],
   "source": [
    "print('Model accuracy score: {0:0.4f}'. format(accuracy_score(y_test, y_pred_lr)))"
   ]
  },
  {
   "cell_type": "markdown",
   "id": "328dbebd",
   "metadata": {},
   "source": [
    "# SVM"
   ]
  },
  {
   "cell_type": "code",
   "execution_count": null,
   "id": "1f360a86",
   "metadata": {},
   "outputs": [],
   "source": [
    "from sklearn.svm import SVC"
   ]
  },
  {
   "cell_type": "code",
   "execution_count": null,
   "id": "20542203",
   "metadata": {},
   "outputs": [],
   "source": [
    "svm = SVC()\n",
    "svm.fit(x_train,y_train)"
   ]
  },
  {
   "cell_type": "code",
   "execution_count": null,
   "id": "07509075",
   "metadata": {},
   "outputs": [],
   "source": [
    "y_pred_svm = svm.predict(x_test)"
   ]
  },
  {
   "cell_type": "code",
   "execution_count": null,
   "id": "413f27f2",
   "metadata": {},
   "outputs": [],
   "source": [
    "cfx_svm=confusion_matrix(y_test,y_pred_svm)\n",
    "cfx_svm"
   ]
  },
  {
   "cell_type": "code",
   "execution_count": null,
   "id": "f343f69c",
   "metadata": {},
   "outputs": [],
   "source": [
    "sns.heatmap(cfx_svm, fmt='d',annot=True,cmap='Greens')"
   ]
  },
  {
   "cell_type": "code",
   "execution_count": null,
   "id": "7ad32f34",
   "metadata": {},
   "outputs": [],
   "source": [
    "print('Model accuracy score: {0:0.4f}'. format(accuracy_score(y_test, y_pred_svm)))"
   ]
  },
  {
   "cell_type": "markdown",
   "id": "1dab649e",
   "metadata": {},
   "source": [
    "# KNN"
   ]
  },
  {
   "cell_type": "code",
   "execution_count": null,
   "id": "f3b1677a",
   "metadata": {},
   "outputs": [],
   "source": [
    "from sklearn.neighbors import KNeighborsClassifier\n"
   ]
  },
  {
   "cell_type": "code",
   "execution_count": null,
   "id": "56097d85",
   "metadata": {},
   "outputs": [],
   "source": [
    "knn = KNeighborsClassifier(n_neighbors=3)"
   ]
  },
  {
   "cell_type": "code",
   "execution_count": null,
   "id": "00e8d5a9",
   "metadata": {},
   "outputs": [],
   "source": [
    "knn.fit(x_train, y_train)"
   ]
  },
  {
   "cell_type": "code",
   "execution_count": null,
   "id": "0c0a4701",
   "metadata": {},
   "outputs": [],
   "source": [
    "y_pred_knn = knn.predict(x_test)"
   ]
  },
  {
   "cell_type": "code",
   "execution_count": null,
   "id": "e1cfac95",
   "metadata": {},
   "outputs": [],
   "source": [
    "y_pred_knn"
   ]
  },
  {
   "cell_type": "code",
   "execution_count": null,
   "id": "173da2db",
   "metadata": {},
   "outputs": [],
   "source": [
    "print('Model accuracy score: {0:0.4f}'. format(accuracy_score(y_test, y_pred_knn)))"
   ]
  }
 ],
 "metadata": {
  "kernelspec": {
   "display_name": "Python 3 (ipykernel)",
   "language": "python",
   "name": "python3"
  },
  "language_info": {
   "codemirror_mode": {
    "name": "ipython",
    "version": 3
   },
   "file_extension": ".py",
   "mimetype": "text/x-python",
   "name": "python",
   "nbconvert_exporter": "python",
   "pygments_lexer": "ipython3",
   "version": "3.8.13"
  }
 },
 "nbformat": 4,
 "nbformat_minor": 5
}
