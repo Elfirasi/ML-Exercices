{
 "cells": [
  {
   "cell_type": "markdown",
   "id": "e9a39498",
   "metadata": {},
   "source": [
    "# Installation des package"
   ]
  },
  {
   "cell_type": "code",
   "execution_count": null,
   "id": "c570a983",
   "metadata": {},
   "outputs": [],
   "source": [
    "#pip install numpy\n",
    "#pip install pandas\n",
    "#pip install scikit-learn"
   ]
  },
  {
   "cell_type": "code",
   "execution_count": null,
   "id": "3a5a5bce",
   "metadata": {},
   "outputs": [],
   "source": [
    "import pandas as pd"
   ]
  },
  {
   "cell_type": "code",
   "execution_count": null,
   "id": "aaa601ba",
   "metadata": {},
   "outputs": [],
   "source": [
    "# Lecture d'un fichier\n",
    "df = pd.read_csv('data.csv')"
   ]
  },
  {
   "cell_type": "code",
   "execution_count": null,
   "id": "11769a1b",
   "metadata": {},
   "outputs": [],
   "source": [
    "df.head()"
   ]
  },
  {
   "cell_type": "code",
   "execution_count": null,
   "id": "4ab80c21",
   "metadata": {},
   "outputs": [],
   "source": [
    "df.describe()"
   ]
  },
  {
   "cell_type": "code",
   "execution_count": null,
   "id": "88513739",
   "metadata": {},
   "outputs": [],
   "source": [
    "df.columns"
   ]
  },
  {
   "cell_type": "code",
   "execution_count": null,
   "id": "f59390ca",
   "metadata": {},
   "outputs": [],
   "source": [
    "# Remplacer les noms de colonnes\n",
    "df.columns = ['param', 'prodindic', 'Class']"
   ]
  },
  {
   "cell_type": "code",
   "execution_count": null,
   "id": "ef563915",
   "metadata": {},
   "outputs": [],
   "source": [
    "df.info()"
   ]
  },
  {
   "cell_type": "code",
   "execution_count": null,
   "id": "4bce6926",
   "metadata": {},
   "outputs": [],
   "source": [
    "# chercher les valeurs nan\n",
    "df.isnull().sum()"
   ]
  },
  {
   "cell_type": "code",
   "execution_count": null,
   "id": "5aafdac4",
   "metadata": {},
   "outputs": [],
   "source": [
    "# Remplacement des nan par la valeur médiane\n",
    "m = df.prodparam.median()\n",
    "print(f\"Médiane est {m}\")\n",
    "df.prodparam.fillna(m,inplace=True)"
   ]
  },
  {
   "cell_type": "code",
   "execution_count": null,
   "id": "62c3171f",
   "metadata": {},
   "outputs": [],
   "source": [
    "df.isnull().sum()"
   ]
  },
  {
   "cell_type": "code",
   "execution_count": null,
   "id": "11d99fa0",
   "metadata": {},
   "outputs": [],
   "source": [
    "df.head(17)"
   ]
  },
  {
   "cell_type": "code",
   "execution_count": null,
   "id": "3cdc3f9a",
   "metadata": {},
   "outputs": [],
   "source": [
    "#Encodage\n",
    "df.Class.replace({\"POS\":1,\"NEG\":0}, inplace=True)"
   ]
  },
  {
   "cell_type": "code",
   "execution_count": null,
   "id": "83dfdafc",
   "metadata": {},
   "outputs": [],
   "source": [
    "df.head()"
   ]
  },
  {
   "cell_type": "code",
   "execution_count": null,
   "id": "486c08cf",
   "metadata": {},
   "outputs": [],
   "source": [
    "df.info()"
   ]
  },
  {
   "cell_type": "code",
   "execution_count": null,
   "id": "2c2bd6ef",
   "metadata": {},
   "outputs": [],
   "source": []
  }
 ],
 "metadata": {
  "kernelspec": {
   "display_name": "Python 3 (ipykernel)",
   "language": "python",
   "name": "python3"
  },
  "language_info": {
   "codemirror_mode": {
    "name": "ipython",
    "version": 3
   },
   "file_extension": ".py",
   "mimetype": "text/x-python",
   "name": "python",
   "nbconvert_exporter": "python",
   "pygments_lexer": "ipython3",
   "version": "3.8.13"
  }
 },
 "nbformat": 4,
 "nbformat_minor": 5
}
